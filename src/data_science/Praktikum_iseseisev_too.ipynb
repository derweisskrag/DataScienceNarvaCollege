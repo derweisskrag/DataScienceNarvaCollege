{
 "cells": [
  {
   "cell_type": "markdown",
   "id": "47d8b080aeaf302a",
   "metadata": {},
   "source": [
    "### **1. Ülesande Kirjeldus:**\n",
    "Koosta JSON, mis kirjeldab bussi sõiduplaani järgmiselt:\n",
    "\n",
    "Buss: Sisaldab numbri (nt 42) ja sihtkoha (nt \"Tallinn\").\n",
    "Peatused: Loetelu peatusi (nt \"Pärnu mnt\", \"Kaubamaja\", \"Vabaduse väljak\"), iga peatuse jaoks:\n",
    "\n",
    "Aeg: Saabumise aeg (hh formaadis).\n",
    "\n",
    "Järjekord: Peatuse järjekorranumber marsruudil.\n",
    "\n",
    "Tingimused:\n",
    "\n",
    "Peatusi peab olema vähemalt 5.\n",
    "\n",
    "Igal peatusel peab olema unikaalne järjekorranumber ja aeg. Ajaerinevus peatuste vahel peab olema vähemalt 3 minutit.\n",
    "\n",
    "Loo JSON failina ja salvestage see kui soiduplaan.json."
   ]
  },
  {
   "cell_type": "code",
   "execution_count": 1,
   "id": "6369819dabd1d5e1",
   "metadata": {},
   "outputs": [
    {
     "name": "stdout",
     "output_type": "stream",
     "text": [
      "Loaded Data: {'buss': {'number': 42, 'destination': 'Tallinn'}, 'peatused': [{'aeg': '08:00', 'järjekord': 1, 'stop_name': 'Pärnu mnt'}, {'aeg': '08:05', 'järjekord': 2, 'stop_name': 'Kaubamaja'}, {'aeg': '08:10', 'järjekord': 3, 'stop_name': 'Vabaduse väljak'}, {'aeg': '08:15', 'järjekord': 4, 'stop_name': 'Tartu mnt'}, {'aeg': '08:20', 'järjekord': 5, 'stop_name': 'Järveotsa'}], 'new_key': 'new_value'}\n",
      "Updated Data: {'buss': {'number': 42, 'destination': 'Tallinn'}, 'peatused': [{'aeg': '08:00', 'järjekord': 1, 'stop_name': 'Pärnu mnt'}, {'aeg': '08:05', 'järjekord': 2, 'stop_name': 'Kaubamaja'}, {'aeg': '08:10', 'järjekord': 3, 'stop_name': 'Vabaduse väljak'}, {'aeg': '08:15', 'järjekord': 4, 'stop_name': 'Tartu mnt'}, {'aeg': '08:20', 'järjekord': 5, 'stop_name': 'Järveotsa'}], 'new_key': 'new_value'}\n"
     ]
    }
   ],
   "source": [
    "# JSON is placed inside data/lib.json\n",
    "# We use utils/tools.py to read & write to JSON\n",
    "# We use Custom Errors from exceptions and their messages\n",
    "# We use custom types if necessary to enhance typing \n",
    "# Let us see if we can read\n",
    "\n",
    "from utils.tools import read_json, print_data\n",
    "from utils.json_service import JsonService\n",
    "\n",
    "with JsonService(\"./data/lib.json\") as handler:\n",
    "    data = handler.get_data()\n",
    "    print(\"Loaded Data:\", data)\n",
    "    handler.update_data(\"new_key\", \"new_value\")\n",
    "    print(\"Updated Data:\", handler.get_data())\n",
    "    \n"
   ]
  },
  {
   "cell_type": "markdown",
   "id": "afe7b7fce8f4a443",
   "metadata": {},
   "source": [
    "### **2. Failist Andmete Lugemine**\n",
    "Kirjuta Pythonis funktsioon, mis loeb faili soiduplaan.json ja:\n",
    "\n",
    "Kuvab bussi numbri ja sihtkoha.\n",
    "\n",
    "Kuvab iga peatuse nime ja saabumisaja."
   ]
  },
  {
   "cell_type": "code",
   "execution_count": 6,
   "id": "e6b20bec34873c18",
   "metadata": {},
   "outputs": [],
   "source": [
    "# read data\n",
    "data = read_json(\"./data/lib.json\")\n",
    "\n",
    "# process data\n",
    "import pandas as pd\n",
    "\n",
    "# get stops\n",
    "df_peatused = pd.DataFrame(data['peatused'])\n",
    "\n",
    "# We can also include bus info separately\n",
    "df_bus = pd.DataFrame([data['buss']])\n",
    "\n",
    "# print(df_peatused)\n",
    "# print_data(data)\n"
   ]
  },
  {
   "cell_type": "markdown",
   "id": "ab9956a7f5835be0",
   "metadata": {},
   "source": [
    "### **3. Andmetüüpide Konverteerimine**\n",
    "Kirjuta funktsioon, mis:\n",
    "\n",
    "Loeb failist soiduplaan.json peatuste saabumisajad stringina (nt \"08:00\").\n",
    "\n",
    "Teisendab need kellaaegade objektideks kasutades datetime moodulit.\n",
    "\n",
    "Loob kellaajadest listi.\n",
    "\n",
    "Arvutab ajavahe iga peatuse vahel minutites."
   ]
  },
  {
   "cell_type": "code",
   "execution_count": null,
   "id": "6941619548986418",
   "metadata": {},
   "outputs": [
    {
     "ename": "NameError",
     "evalue": "name 'data' is not defined",
     "output_type": "error",
     "traceback": [
      "\u001b[31m---------------------------------------------------------------------------\u001b[39m",
      "\u001b[31mNameError\u001b[39m                                 Traceback (most recent call last)",
      "\u001b[36mCell\u001b[39m\u001b[36m \u001b[39m\u001b[32mIn[2]\u001b[39m\u001b[32m, line 1\u001b[39m\n\u001b[32m----> \u001b[39m\u001b[32m1\u001b[39m print_data(\u001b[43mdata\u001b[49m)\n",
      "\u001b[31mNameError\u001b[39m: name 'data' is not defined"
     ]
    }
   ],
   "source": []
  },
  {
   "cell_type": "markdown",
   "id": "faa6bedfb2a3a03c",
   "metadata": {},
   "source": [
    "### **4. Looge Marsruudi Loend**\n",
    "Kirjuta programm, mis:\n",
    "\n",
    "Koostab stringi kujul marsruudi kirjelduse, ühendades kõik peatuste nimed.\n",
    "\n",
    "Kasutab selleks stringimeetodit .join().\n",
    "\n",
    "Näide: Marsruut: Pärnu mnt -> Kaubamaja -> Vabaduse väljak -> Kesklinn"
   ]
  },
  {
   "cell_type": "code",
   "execution_count": null,
   "id": "3aa0ec4c2a6a3e85",
   "metadata": {},
   "outputs": [],
   "source": []
  },
  {
   "cell_type": "markdown",
   "id": "1c14ec67c00e0865",
   "metadata": {},
   "source": [
    "### **5. Eralda Kõik Peatuste Nimed**\n",
    "Kirjuta programm, mis:\n",
    "\n",
    "Eraldab peatuste nimed ja salvestab need listi.\n",
    "Tagastab kõik nimed tähestikulises järjekorras."
   ]
  },
  {
   "cell_type": "code",
   "execution_count": null,
   "id": "23c1800292fe2917",
   "metadata": {},
   "outputs": [],
   "source": []
  },
  {
   "cell_type": "markdown",
   "id": "e67c91b9f380f2d",
   "metadata": {},
   "source": [
    "### **6. Looge Tagurpidi Marsruut**\n",
    "Kirjuta programm, mis:\n",
    "\n",
    "Loob uue listi peatuste nimedest tagurpidi järjekorras.\n",
    "\n",
    "Kuvab uue marsruudi stringina."
   ]
  },
  {
   "cell_type": "code",
   "execution_count": null,
   "id": "5a1dc4da90d03132",
   "metadata": {},
   "outputs": [],
   "source": []
  }
 ],
 "metadata": {
  "kernelspec": {
   "display_name": "Python 3",
   "language": "python",
   "name": "python3"
  },
  "language_info": {
   "codemirror_mode": {
    "name": "ipython",
    "version": 3
   },
   "file_extension": ".py",
   "mimetype": "text/x-python",
   "name": "python",
   "nbconvert_exporter": "python",
   "pygments_lexer": "ipython3",
   "version": "3.13.2"
  }
 },
 "nbformat": 4,
 "nbformat_minor": 5
}
