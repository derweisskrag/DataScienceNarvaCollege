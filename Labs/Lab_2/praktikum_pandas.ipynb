{
 "cells": [
  {
   "metadata": {},
   "cell_type": "markdown",
   "source": [
    "### 1. Andmeframe'i loomine ja esmane uurimine\n",
    "\n",
    "abiks on ka dokumentatsioon: https://pandas.pydata.org/pandas-docs/stable/reference/api/pandas.DataFrame.html\n",
    "#### Ülesanne:\n",
    "Loo andmeframe, mis sisaldab järgmisi andmeid:\n",
    "\n",
    "Veerud: Nimi, Vanus, Sugu, Palk."
   ],
   "id": "b105b942bc2d784"
  },
  {
   "metadata": {},
   "cell_type": "markdown",
   "source": [
    "|    | Nimi    | Vanus | Sugu |   Palk  |\n",
    "|----|---------|-------|------|---------|\n",
    "|  0 | Alice   | 25    | N    |  5000   |\n",
    "|  1 | Bob     | NaN   | M    |  5500   |\n",
    "|  2 | Charlie | 35    | NaN  |  6000   |\n",
    "|  3 | Diana   | 28    | N    |   NaN   |\n",
    "|  4 | Eve     | 45    | N    |  7500   |\n",
    "|  5 | Frank   | 50    | M    |   NaN   |\n",
    "|  6 | Grace   | NaN   | N    |  7000   |\n",
    "|  7 | Hannah  | 38    | N    |  6200   |\n",
    "|  8 | Jack    | 40    | M    |   NaN   |\n",
    "|  9 | Karen   | NaN   | N    |  8000   |\n",
    "| 10 | Leo     | 30    | M    |  6700   |\n",
    "| 11 | Mona    | 29    | N    |  7100   |\n",
    "| 12 | Steve   | NaN   | M    |  5200   |\n",
    "| 13 | Tina    | 32    | N    |   NaN   |\n",
    "| 14 | Victor  | 55    | M    |  8200   |"
   ],
   "id": "8b1373c8e00fff1e"
  },
  {
   "metadata": {},
   "cell_type": "code",
   "outputs": [],
   "execution_count": null,
   "source": "",
   "id": "6ad56ee7b1c559f1"
  },
  {
   "metadata": {},
   "cell_type": "markdown",
   "source": [
    "#### Prindi:\n",
    "\n",
    "Esimesed kaks rida andmeframe'ist.\n",
    "\n",
    "Kõik veerunimed.\n",
    "\n",
    "Statistiline kokkuvõte numbriliste andmete kohta."
   ],
   "id": "95ca2b501b02ccbe"
  },
  {
   "metadata": {},
   "cell_type": "code",
   "outputs": [],
   "execution_count": null,
   "source": "",
   "id": "710cfe9d0f77c6ac"
  },
  {
   "metadata": {},
   "cell_type": "markdown",
   "source": [
    "### 2. Filtreerimine ja andmete valimine\n",
    "#### Ülesanne:\n",
    "Filtreeri kõik töötajad, kelle palk on suurem kui 5200.\n",
    "\n",
    "Leia kõigi naistöötajate (Sugu == \"N\") keskmine palk.\n",
    "\n",
    "Lisa uus veerg Vanuserühm, kus:\n",
    "\n",
    "    Kui Vanus < 30, väärtus on \"Noored\".\n",
    "    Kui Vanus >= 30, väärtus on \"Täiskasvanud\"."
   ],
   "id": "1c55d8e8a0e7603c"
  },
  {
   "metadata": {},
   "cell_type": "code",
   "outputs": [],
   "execution_count": null,
   "source": "",
   "id": "8ce2ea1ccde074b4"
  },
  {
   "metadata": {},
   "cell_type": "markdown",
   "source": [
    "### 3. Gruppeerimine ja kokkuvõtete tegemine\n",
    "#### Ülesanne:\n",
    "   Grupperi töötajad soo järgi ja arvuta keskmine palk iga soo kohta.\n",
    "   \n",
    "   Leia maksimaalne palk igas vanuserühmas."
   ],
   "id": "2eeb0c820db879cf"
  },
  {
   "metadata": {},
   "cell_type": "code",
   "outputs": [],
   "execution_count": null,
   "source": "",
   "id": "db9a323abd1130c1"
  },
  {
   "metadata": {},
   "cell_type": "markdown",
   "source": [
    "### 4. Andmete muutmine ja veergude haldamine\n",
    "#### Ülesanne:\n",
    "Eemalda veerg Vanuserühm.\n",
    "\n",
    "Lisa uus veerg Boonus, mis on 10% palgast.\n",
    "\n",
    "Sorteeri andmeframe palga järgi kahanevas järjekorras"
   ],
   "id": "da6b8ee4996e56bf"
  },
  {
   "metadata": {},
   "cell_type": "code",
   "outputs": [],
   "execution_count": null,
   "source": "",
   "id": "97c31df8f6a5211c"
  },
  {
   "metadata": {},
   "cell_type": "markdown",
   "source": [
    "### 5. Tühjade väärtuste käsitlemine\n",
    "#### Ülesanne:\n",
    "Leia, millised read sisaldavad tühje väärtusi.\n",
    "\n",
    "Täida tühjad Palk väärtused keskmise palgaga.\n",
    "\n",
    "Eemalda read, kus veerus Sugu on tühjad väärtused."
   ],
   "id": "b4e23fa9c1544249"
  },
  {
   "metadata": {},
   "cell_type": "code",
   "outputs": [],
   "execution_count": null,
   "source": "",
   "id": "b5445b27676e9de7"
  },
  {
   "metadata": {},
   "cell_type": "markdown",
   "source": [
    "### 6. Andmete salvestamine ja laadimine\n",
    "#### Ülesanne:\n",
    "Salvesta andmeframe CSV-faili nimega andmed.csv.\n",
    "\n",
    "Laadi sama fail tagasi uude andmeframe'i ja prindi selle sisu."
   ],
   "id": "3adf2ca0be8503cb"
  },
  {
   "metadata": {},
   "cell_type": "code",
   "outputs": [],
   "execution_count": null,
   "source": "",
   "id": "5272655a88adb26a"
  },
  {
   "metadata": {},
   "cell_type": "markdown",
   "source": [
    "### Kirjuta iga punkti lahenduse ümber funktsioonina. Salvesta iga funktsioon eraldi failina ning loe sisse main.py failis.\n",
    "Lisa Bitbucketis omanimeline kaust koos märksõnaga 'pandas' (näiteks erika_lorents_pandas) ning lae oma funktsioonid sinna üles. Seejärel koosta pull request, et üks gruppikaaslastest vaataks su koodi üle ja kinnitaks selle (approve)."
   ],
   "id": "5f8592c4b6ad457b"
  }
 ],
 "metadata": {
  "kernelspec": {
   "display_name": "Python 3",
   "language": "python",
   "name": "python3"
  },
  "language_info": {
   "codemirror_mode": {
    "name": "ipython",
    "version": 2
   },
   "file_extension": ".py",
   "mimetype": "text/x-python",
   "name": "python",
   "nbconvert_exporter": "python",
   "pygments_lexer": "ipython2",
   "version": "2.7.6"
  }
 },
 "nbformat": 4,
 "nbformat_minor": 5
}
